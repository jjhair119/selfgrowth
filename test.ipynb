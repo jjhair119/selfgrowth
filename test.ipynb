{
 "cells": [
  {
   "cell_type": "code",
   "execution_count": 5,
   "metadata": {},
   "outputs": [
    {
     "name": "stdout",
     "output_type": "stream",
     "text": [
      "Translated text: This morning, I was feeling really down and gloomy because it was raining. But after class, the sun came out and it was so bright that I could see a rainbow. I felt so happy and uplifted.\n"
     ]
    }
   ],
   "source": [
    "# 일기장에서 텍스트를 받아서 영어로 번역하는 작업\n",
    "import openai\n",
    "\n",
    "def translate_korean_to_english(text):\n",
    "    response = openai.Completion.create(\n",
    "        engine=\"gpt-3.5-turbo-instruct\",  \n",
    "        prompt=f\"한글: {text}\\nEnglish:\",\n",
    "        temperature=0.5,\n",
    "        max_tokens=60,\n",
    "        top_p=1.0,\n",
    "        frequency_penalty=0.0,\n",
    "        presence_penalty=0.0,\n",
    "    )\n",
    "\n",
    "    translated_text = response.choices[0].text.strip()\n",
    "\n",
    "    return translated_text\n",
    "\n",
    "\n",
    "# 번역하고 싶은 텍스트를 입력하세요.\n",
    "# 후에 처리할 기능 \n",
    "# 1. 데베에 저장된 일기장 텍스트 가져오기\n",
    "# 2. 불러온 한글 텍스트 영어로 번역 후 다시 데베에 저장\n",
    "\n",
    "korean_text = \"오늘 진짜 맛있는 고기를 먹었다. 소고기를 먹었는데 아니 세상에, 마블링이 예술이잖아? 완전 럭키비키잖아~~\"\n",
    "# korean_Text = f\"{일기장 내용 끌고 오기}\"\n",
    "\n",
    "english_text = translate_korean_to_english(korean_text)\n",
    "\n",
    "print(\"Translated text:\", english_text)"
   ]
  },
  {
   "cell_type": "code",
   "execution_count": 6,
   "metadata": {},
   "outputs": [
    {
     "name": "stdout",
     "output_type": "stream",
     "text": [
      "Detected emotion: happy\n"
     ]
    }
   ],
   "source": [
    "# 영어로 번역된 일기장 텍스트에서 감정 추출하는 작업\n",
    "\n",
    "def detect_emotion(text):\n",
    "    response = openai.Completion.create(\n",
    "        engine=\"gpt-3.5-turbo-instruct\",  \n",
    "        prompt=f\"Detect the emotion of the sentence: '{text}'.\\nemotion: \",\n",
    "        temperature=0.5,\n",
    "        max_tokens=60,\n",
    "        top_p=1.0,\n",
    "        frequency_penalty=0.0,\n",
    "        presence_penalty=0.0,\n",
    "    )\n",
    "\n",
    "    emotion = response.choices[0].text.strip()\n",
    "    return emotion\n",
    "\n",
    "\n",
    "# 감정을 인식하고 싶은 문장을 입력하세요.\n",
    "# 영어로 번역된 일기장 텍스트 불러와서 감정 추출\n",
    "\n",
    "sentence = f\"{english_text}\"\n",
    "detected_emotion = detect_emotion(sentence)\n",
    "print(\"Detected emotion:\", detected_emotion)\n",
    "\n",
    "# 추출된 감정을 이미지 생성 프롬프트에 입력\n"
   ]
  },
  {
   "cell_type": "code",
   "execution_count": 7,
   "metadata": {},
   "outputs": [
    {
     "name": "stdout",
     "output_type": "stream",
     "text": [
      "Image generated and saved as 'test.png'\n"
     ]
    },
    {
     "data": {
      "text/plain": [
       "'test2.png'"
      ]
     },
     "execution_count": 7,
     "metadata": {},
     "output_type": "execute_result"
    }
   ],
   "source": [
    "# 이미지 생성\n",
    "import urllib\n",
    "import cv2\n",
    "\n",
    "def generate_image(prompt):\n",
    "    # DALL-E 3 모델을 사용하여 이미지 생성 요청\n",
    "    response = openai.Image.create(\n",
    "        model=\"dall-e-3\",\n",
    "        prompt=prompt,\n",
    "        n=1,  \n",
    "        size=\"1024x1024\",  \n",
    "    )\n",
    "\n",
    "    image_url = response.data[0].url\n",
    "    urllib.request.urlretrieve(image_url, \"test2.png\")\n",
    "\n",
    "    print(\"Image generated and saved as 'test.png'\")\n",
    "    return \"test2.png\"\n",
    "\n",
    "# 사용 예제\n",
    "# 후에 해야할 작업\n",
    "# 프로필을 고를 때 고른 동물에 따라 프롬프트 변동시키기\n",
    "# prompt = f\"{동물}, pixel art, '{detected_emotion}'\"\n",
    "\n",
    "prompt = f\"a bischon frise, pixel art, '{detected_emotion}'\"\n",
    "generate_image(prompt)"
   ]
  },
  {
   "cell_type": "code",
   "execution_count": 8,
   "metadata": {},
   "outputs": [],
   "source": [
    "from rembg import remove\n",
    "from PIL import Image\n",
    "\n",
    "input = Image.open(\"test2.png\")  # load image\n",
    "output = remove(input)  # remove background\n",
    "output.save(\"remb2.png\")  # save image"
   ]
  }
 ],
 "metadata": {
  "kernelspec": {
   "display_name": "Python 3",
   "language": "python",
   "name": "python3"
  },
  "language_info": {
   "codemirror_mode": {
    "name": "ipython",
    "version": 3
   },
   "file_extension": ".py",
   "mimetype": "text/x-python",
   "name": "python",
   "nbconvert_exporter": "python",
   "pygments_lexer": "ipython3",
   "version": "3.11.9"
  }
 },
 "nbformat": 4,
 "nbformat_minor": 2
}
